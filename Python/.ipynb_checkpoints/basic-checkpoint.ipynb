{
 "cells": [
  {
   "cell_type": "code",
   "execution_count": 3,
   "id": "1fd9bf11-cb9e-4aec-814c-cfb7ac3096c3",
   "metadata": {},
   "outputs": [
    {
     "name": "stdout",
     "output_type": "stream",
     "text": [
      "ayahska rakkud\n"
     ]
    }
   ],
   "source": [
    "str=\"dukkar akshaya\"\n",
    "\n",
    "print(str[::-1])"
   ]
  },
  {
   "cell_type": "code",
   "execution_count": 13,
   "id": "dbec1457-2a41-4904-8c3c-768d3168c81e",
   "metadata": {},
   "outputs": [
    {
     "name": "stdout",
     "output_type": "stream",
     "text": [
      "ayahska rakkud"
     ]
    }
   ],
   "source": [
    "str=\"dukkar akshaya\"\n",
    "\n",
    "for i in range(len(str)- 1, -1,-1):\n",
    "    print(str[i],end=\"\")\n",
    "    "
   ]
  },
  {
   "cell_type": "code",
   "execution_count": 39,
   "id": "97aa5ed3-e59c-4b6e-9ec4-6c955b0382f8",
   "metadata": {},
   "outputs": [
    {
     "name": "stdout",
     "output_type": "stream",
     "text": [
      "ayahska rakkud\n"
     ]
    }
   ],
   "source": [
    "def reverse(str):\n",
    "    reversed=\"\"\n",
    "    for i in range(len(str)- 1, -1,-1):\n",
    "        reversed=reversed+str[i]\n",
    "    return reversed\n",
    "str=\"dukkar akshaya\"\n",
    "print(reverse(str))"
   ]
  },
  {
   "cell_type": "code",
   "execution_count": null,
   "id": "1c543b67-b5e2-4644-b7fe-f5e1785f94f8",
   "metadata": {},
   "outputs": [],
   "source": []
  }
 ],
 "metadata": {
  "kernelspec": {
   "display_name": "Python 3 (ipykernel)",
   "language": "python",
   "name": "python3"
  },
  "language_info": {
   "codemirror_mode": {
    "name": "ipython",
    "version": 3
   },
   "file_extension": ".py",
   "mimetype": "text/x-python",
   "name": "python",
   "nbconvert_exporter": "python",
   "pygments_lexer": "ipython3",
   "version": "3.11.7"
  }
 },
 "nbformat": 4,
 "nbformat_minor": 5
}
