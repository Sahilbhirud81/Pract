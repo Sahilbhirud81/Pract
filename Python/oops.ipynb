{
 "cells": [
  {
   "cell_type": "markdown",
   "id": "b062ca5f-23a7-4c1a-9ee7-4e9284a492d6",
   "metadata": {},
   "source": [
    "# Inheritance"
   ]
  },
  {
   "cell_type": "code",
   "execution_count": 27,
   "id": "947fc4c7-81e7-4940-bff7-5d88d1daab95",
   "metadata": {},
   "outputs": [],
   "source": [
    "class Car:\n",
    "    def __init__(self,brand,model):\n",
    "        self.brand=brand\n",
    "        self.model=model\n",
    "\n",
    "    def full_name(self):\n",
    "        return f\"{self.brand} {self.model}\"\n"
   ]
  },
  {
   "cell_type": "code",
   "execution_count": 18,
   "id": "201872ac-041b-4c9f-8659-cb5df3fb470e",
   "metadata": {},
   "outputs": [
    {
     "name": "stdout",
     "output_type": "stream",
     "text": [
      "Toyota Fortuner\n"
     ]
    }
   ],
   "source": [
    "my_car=Car(\"Toyota\",\"Fortuner\")\n",
    "\n",
    "print(my_car.brand, my_car.model)"
   ]
  },
  {
   "cell_type": "code",
   "execution_count": 19,
   "id": "5e802d18-cc65-410e-adbe-5d003ec978ca",
   "metadata": {},
   "outputs": [
    {
     "name": "stdout",
     "output_type": "stream",
     "text": [
      "TATA\n"
     ]
    }
   ],
   "source": [
    "my_new_car=Car(\"TATA\",\"Safari\")\n",
    "print(my_new_car.brand)"
   ]
  },
  {
   "cell_type": "code",
   "execution_count": 20,
   "id": "98369a80-dae6-42e5-8c2e-3d19770d9536",
   "metadata": {},
   "outputs": [
    {
     "name": "stdout",
     "output_type": "stream",
     "text": [
      "Toyota Fortuner\n"
     ]
    }
   ],
   "source": [
    "print(my_car.full_name())"
   ]
  },
  {
   "cell_type": "code",
   "execution_count": 29,
   "id": "47291af3-6ac6-4529-997f-6f744dc0ab9a",
   "metadata": {},
   "outputs": [],
   "source": [
    "class ElectricCar(Car):\n",
    "    def __init__(self, brand, model, battery_size):\n",
    "        super().__init__(brand, model)\n",
    "        self.battery_size = battery_size"
   ]
  },
  {
   "cell_type": "code",
   "execution_count": 32,
   "id": "358520b3-c157-491a-8495-d1f1c19b1588",
   "metadata": {},
   "outputs": [
    {
     "name": "stdout",
     "output_type": "stream",
     "text": [
      "Model S\n"
     ]
    }
   ],
   "source": [
    "my_tesla = ElectricCar(\"Tesla\",\"Model S\",\"85kWh\")\n",
    "print(my_tesla.model)"
   ]
  },
  {
   "cell_type": "markdown",
   "id": "4547d3d6-9a88-4b7f-8dcc-9a047a522f8e",
   "metadata": {},
   "source": [
    "# Encapsulation"
   ]
  },
  {
   "cell_type": "code",
   "execution_count": null,
   "id": "5ce42edd-880f-4573-b89f-11b5698b5520",
   "metadata": {},
   "outputs": [],
   "source": [
    "class Car:\n",
    "    def __init__(self,brand,model):\n",
    "        self.brand=brand\n",
    "        self.model=model\n",
    "\n",
    "    def full_name(self):\n",
    "        return f\"{self.brand} {self.model}\"\n"
   ]
  }
 ],
 "metadata": {
  "kernelspec": {
   "display_name": "Python 3 (ipykernel)",
   "language": "python",
   "name": "python3"
  },
  "language_info": {
   "codemirror_mode": {
    "name": "ipython",
    "version": 3
   },
   "file_extension": ".py",
   "mimetype": "text/x-python",
   "name": "python",
   "nbconvert_exporter": "python",
   "pygments_lexer": "ipython3",
   "version": "3.11.7"
  }
 },
 "nbformat": 4,
 "nbformat_minor": 5
}
