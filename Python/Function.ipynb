{
 "cells": [
  {
   "cell_type": "code",
   "execution_count": 1,
   "id": "449f1ee1-f9c3-4ce1-ab22-0824b12437ad",
   "metadata": {},
   "outputs": [],
   "source": [
    "def square():\n",
    "    pass"
   ]
  },
  {
   "cell_type": "code",
   "execution_count": 2,
   "id": "c80ea0fe-3eb7-4ac5-b98c-54750bc23265",
   "metadata": {},
   "outputs": [
    {
     "name": "stdout",
     "output_type": "stream",
     "text": [
      "16\n"
     ]
    }
   ],
   "source": [
    "def square(number):\n",
    "    print(number**2)\n",
    "\n",
    "square(4)"
   ]
  },
  {
   "cell_type": "code",
   "execution_count": 3,
   "id": "b07d7b78-eefd-488f-a043-b26bdb6ac4bd",
   "metadata": {},
   "outputs": [
    {
     "name": "stdout",
     "output_type": "stream",
     "text": [
      "16\n"
     ]
    }
   ],
   "source": [
    "def square(number):\n",
    "    return number**2\n",
    "\n",
    "result=square(4)\n",
    "\n",
    "print(result)"
   ]
  },
  {
   "cell_type": "code",
   "execution_count": 4,
   "id": "a2d67f2a-be9f-48cf-9618-2735df848cc8",
   "metadata": {},
   "outputs": [
    {
     "name": "stdout",
     "output_type": "stream",
     "text": [
      "10\n"
     ]
    }
   ],
   "source": [
    "def square(a,b):\n",
    "    return a+b\n",
    "\n",
    "result=square(5,5)\n",
    "\n",
    "print(result)"
   ]
  },
  {
   "cell_type": "code",
   "execution_count": 5,
   "id": "148d07ed-cc83-4b6a-b84a-4b6c30e27244",
   "metadata": {},
   "outputs": [
    {
     "name": "stdout",
     "output_type": "stream",
     "text": [
      "12.566370614359172 12.566370614359172\n"
     ]
    }
   ],
   "source": [
    "import math\n",
    "\n",
    "def circle(radius):\n",
    "    area= math.pi * radius ** 2\n",
    "    circum = 2 * math.pi * radius\n",
    "    return area,circum\n",
    "\n",
    "a,c=circle(2)\n",
    "\n",
    "print(a,c)"
   ]
  },
  {
   "cell_type": "code",
   "execution_count": 7,
   "id": "c3dd5359-5ce7-4001-9df2-61356adc5896",
   "metadata": {},
   "outputs": [
    {
     "name": "stdout",
     "output_type": "stream",
     "text": [
      "area of circle: 13 circumstance of circle: 13\n"
     ]
    }
   ],
   "source": [
    "print (\"area of circle:\",round(a),\"circumstance of circle:\",round(c))"
   ]
  },
  {
   "cell_type": "code",
   "execution_count": 13,
   "id": "eff638ef-66b2-4ce7-96f5-0e962407c3a9",
   "metadata": {},
   "outputs": [
    {
     "name": "stdout",
     "output_type": "stream",
     "text": [
      "27\n"
     ]
    }
   ],
   "source": [
    "cube = lambda x:x**3\n",
    "\n",
    "print(cube(3))"
   ]
  },
  {
   "cell_type": "code",
   "execution_count": 14,
   "id": "25f31473-5443-4747-8eae-4f287ac3e0d2",
   "metadata": {},
   "outputs": [
    {
     "name": "stdout",
     "output_type": "stream",
     "text": [
      "100\n"
     ]
    }
   ],
   "source": [
    "x=99\n",
    "\n",
    "def func(y):\n",
    "    z=x+y\n",
    "    return z\n",
    "\n",
    "result=func(1)\n",
    "\n",
    "print(result)"
   ]
  },
  {
   "cell_type": "code",
   "execution_count": 15,
   "id": "b7c879b7-6133-4070-a46e-0488e7a80af4",
   "metadata": {},
   "outputs": [
    {
     "name": "stdout",
     "output_type": "stream",
     "text": [
      "100\n"
     ]
    }
   ],
   "source": [
    "print(result)"
   ]
  },
  {
   "cell_type": "code",
   "execution_count": 16,
   "id": "a39ef67d-b006-4d58-88c7-95de22bb04fe",
   "metadata": {},
   "outputs": [
    {
     "name": "stdout",
     "output_type": "stream",
     "text": [
      "88\n"
     ]
    }
   ],
   "source": [
    "def f1():\n",
    "    x=88\n",
    "    def f2():\n",
    "        print(x)\n",
    "    return f2\n",
    "\n",
    "myResult = f1()\n",
    "myResult()"
   ]
  },
  {
   "cell_type": "code",
   "execution_count": 17,
   "id": "b6055f1b-9d48-4829-8ff1-17cfbdfdb45c",
   "metadata": {},
   "outputs": [
    {
     "name": "stdout",
     "output_type": "stream",
     "text": [
      "<function chaicoder.<locals>.actual at 0x0000018B203EF420>\n",
      "<function chaicoder.<locals>.actual at 0x0000018B202F2840>\n"
     ]
    }
   ],
   "source": [
    "def chaicoder(num):\n",
    "    def actual(x):\n",
    "        return x ** num\n",
    "    return actual\n",
    "\n",
    "f = chaicoder(2)\n",
    "g = chaicoder(3)\n",
    "\n",
    "print(f)\n",
    "print(g)"
   ]
  },
  {
   "cell_type": "code",
   "execution_count": 18,
   "id": "afe6b3be-87b1-456b-808d-b7cd484a96fd",
   "metadata": {},
   "outputs": [
    {
     "name": "stdout",
     "output_type": "stream",
     "text": [
      "9\n",
      "27\n"
     ]
    }
   ],
   "source": [
    "def chaicoder(num):\n",
    "    def actual(x):\n",
    "        return x ** num\n",
    "    return actual\n",
    "\n",
    "f = chaicoder(2)\n",
    "g = chaicoder(3)\n",
    "\n",
    "print(f(3))\n",
    "print(g(3))"
   ]
  },
  {
   "cell_type": "code",
   "execution_count": null,
   "id": "99176a0c-d6c9-4b92-9dbb-e730dc0f8cb6",
   "metadata": {},
   "outputs": [],
   "source": []
  }
 ],
 "metadata": {
  "kernelspec": {
   "display_name": "Python 3 (ipykernel)",
   "language": "python",
   "name": "python3"
  },
  "language_info": {
   "codemirror_mode": {
    "name": "ipython",
    "version": 3
   },
   "file_extension": ".py",
   "mimetype": "text/x-python",
   "name": "python",
   "nbconvert_exporter": "python",
   "pygments_lexer": "ipython3",
   "version": "3.11.7"
  }
 },
 "nbformat": 4,
 "nbformat_minor": 5
}
