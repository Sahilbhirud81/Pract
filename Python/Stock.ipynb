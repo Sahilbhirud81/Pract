{
 "cells": [
  {
   "cell_type": "code",
   "execution_count": 3,
   "id": "388360b2-4268-441b-97a9-28fb3bbfe2a0",
   "metadata": {},
   "outputs": [
    {
     "name": "stdout",
     "output_type": "stream",
     "text": [
      "Collecting yfinance\n",
      "  Downloading yfinance-0.2.43-py2.py3-none-any.whl.metadata (11 kB)\n",
      "Requirement already satisfied: pandas>=1.3.0 in c:\\users\\bhiru\\anaconda3\\lib\\site-packages (from yfinance) (2.1.4)\n",
      "Requirement already satisfied: numpy>=1.16.5 in c:\\users\\bhiru\\anaconda3\\lib\\site-packages (from yfinance) (1.26.4)\n",
      "Requirement already satisfied: requests>=2.31 in c:\\users\\bhiru\\anaconda3\\lib\\site-packages (from yfinance) (2.31.0)\n",
      "Collecting multitasking>=0.0.7 (from yfinance)\n",
      "  Downloading multitasking-0.0.11-py3-none-any.whl.metadata (5.5 kB)\n",
      "Requirement already satisfied: lxml>=4.9.1 in c:\\users\\bhiru\\anaconda3\\lib\\site-packages (from yfinance) (4.9.3)\n",
      "Requirement already satisfied: platformdirs>=2.0.0 in c:\\users\\bhiru\\anaconda3\\lib\\site-packages (from yfinance) (3.10.0)\n",
      "Requirement already satisfied: pytz>=2022.5 in c:\\users\\bhiru\\anaconda3\\lib\\site-packages (from yfinance) (2023.3.post1)\n",
      "Collecting frozendict>=2.3.4 (from yfinance)\n",
      "  Downloading frozendict-2.4.4-py311-none-any.whl.metadata (23 kB)\n",
      "Collecting peewee>=3.16.2 (from yfinance)\n",
      "  Downloading peewee-3.17.6.tar.gz (3.0 MB)\n",
      "     ---------------------------------------- 0.0/3.0 MB ? eta -:--:--\n",
      "     ---------------------------------------- 0.0/3.0 MB 1.3 MB/s eta 0:00:03\n",
      "      --------------------------------------- 0.1/3.0 MB 812.7 kB/s eta 0:00:04\n",
      "     - -------------------------------------- 0.1/3.0 MB 744.7 kB/s eta 0:00:04\n",
      "     -- ------------------------------------- 0.2/3.0 MB 833.5 kB/s eta 0:00:04\n",
      "     -- ------------------------------------- 0.2/3.0 MB 841.6 kB/s eta 0:00:04\n",
      "     --- ------------------------------------ 0.2/3.0 MB 885.4 kB/s eta 0:00:04\n",
      "     --- ------------------------------------ 0.3/3.0 MB 896.4 kB/s eta 0:00:03\n",
      "     ---- ----------------------------------- 0.3/3.0 MB 938.7 kB/s eta 0:00:03\n",
      "     ---- ----------------------------------- 0.4/3.0 MB 928.4 kB/s eta 0:00:03\n",
      "     ---- ----------------------------------- 0.4/3.0 MB 928.4 kB/s eta 0:00:03\n",
      "     ---- ----------------------------------- 0.4/3.0 MB 928.4 kB/s eta 0:00:03\n",
      "     ------ --------------------------------- 0.5/3.0 MB 972.4 kB/s eta 0:00:03\n",
      "     ------- -------------------------------- 0.6/3.0 MB 956.7 kB/s eta 0:00:03\n",
      "     -------- ------------------------------- 0.6/3.0 MB 956.9 kB/s eta 0:00:03\n",
      "     -------- ------------------------------- 0.6/3.0 MB 935.2 kB/s eta 0:00:03\n",
      "     -------- ------------------------------- 0.7/3.0 MB 917.7 kB/s eta 0:00:03\n",
      "     --------- ------------------------------ 0.7/3.0 MB 925.7 kB/s eta 0:00:03\n",
      "     --------- ------------------------------ 0.7/3.0 MB 916.6 kB/s eta 0:00:03\n",
      "     ---------- ----------------------------- 0.8/3.0 MB 922.1 kB/s eta 0:00:03\n",
      "     ---------- ----------------------------- 0.8/3.0 MB 912.8 kB/s eta 0:00:03\n",
      "     ------------ --------------------------- 0.9/3.0 MB 955.1 kB/s eta 0:00:03\n",
      "     ------------ --------------------------- 0.9/3.0 MB 940.5 kB/s eta 0:00:03\n",
      "     ------------ --------------------------- 1.0/3.0 MB 927.2 kB/s eta 0:00:03\n",
      "     ------------- -------------------------- 1.0/3.0 MB 921.4 kB/s eta 0:00:03\n",
      "     -------------- ------------------------- 1.1/3.0 MB 928.4 kB/s eta 0:00:03\n",
      "     -------------- ------------------------- 1.1/3.0 MB 917.4 kB/s eta 0:00:03\n",
      "     -------------- ------------------------- 1.1/3.0 MB 922.3 kB/s eta 0:00:03\n",
      "     --------------- ------------------------ 1.1/3.0 MB 920.4 kB/s eta 0:00:02\n",
      "     --------------- ------------------------ 1.1/3.0 MB 920.4 kB/s eta 0:00:02\n",
      "     --------------- ------------------------ 1.2/3.0 MB 863.6 kB/s eta 0:00:03\n",
      "     ----------------- ---------------------- 1.3/3.0 MB 930.9 kB/s eta 0:00:02\n",
      "     ------------------ --------------------- 1.3/3.0 MB 925.7 kB/s eta 0:00:02\n",
      "     ------------------ --------------------- 1.4/3.0 MB 930.9 kB/s eta 0:00:02\n",
      "     ------------------- -------------------- 1.4/3.0 MB 920.1 kB/s eta 0:00:02\n",
      "     ------------------- -------------------- 1.4/3.0 MB 920.1 kB/s eta 0:00:02\n",
      "     -------------------- ------------------- 1.5/3.0 MB 929.8 kB/s eta 0:00:02\n",
      "     --------------------- ------------------ 1.6/3.0 MB 930.9 kB/s eta 0:00:02\n",
      "     --------------------- ------------------ 1.6/3.0 MB 935.2 kB/s eta 0:00:02\n",
      "     ---------------------- ----------------- 1.7/3.0 MB 930.9 kB/s eta 0:00:02\n",
      "     ----------------------- ---------------- 1.8/3.0 MB 952.3 kB/s eta 0:00:02\n",
      "     ------------------------ --------------- 1.8/3.0 MB 963.4 kB/s eta 0:00:02\n",
      "     ------------------------- -------------- 1.9/3.0 MB 977.3 kB/s eta 0:00:02\n",
      "     -------------------------- ------------- 1.9/3.0 MB 991.0 kB/s eta 0:00:02\n",
      "     --------------------------- ------------ 2.0/3.0 MB 998.4 kB/s eta 0:00:01\n",
      "     --------------------------- ------------ 2.1/3.0 MB 992.7 kB/s eta 0:00:01\n",
      "     ---------------------------- ----------- 2.1/3.0 MB 1.0 MB/s eta 0:00:01\n",
      "     ----------------------------- ---------- 2.2/3.0 MB 1.0 MB/s eta 0:00:01\n",
      "     ------------------------------ --------- 2.3/3.0 MB 1.0 MB/s eta 0:00:01\n",
      "     ------------------------------- -------- 2.3/3.0 MB 1.0 MB/s eta 0:00:01\n",
      "     ------------------------------- -------- 2.3/3.0 MB 1.0 MB/s eta 0:00:01\n",
      "     -------------------------------- ------- 2.4/3.0 MB 1.0 MB/s eta 0:00:01\n",
      "     -------------------------------- ------- 2.4/3.0 MB 1.0 MB/s eta 0:00:01\n",
      "     --------------------------------- ------ 2.5/3.0 MB 1.0 MB/s eta 0:00:01\n",
      "     ---------------------------------- ----- 2.5/3.0 MB 1.0 MB/s eta 0:00:01\n",
      "     ---------------------------------- ----- 2.5/3.0 MB 1.0 MB/s eta 0:00:01\n",
      "     ----------------------------------- ---- 2.6/3.0 MB 1.0 MB/s eta 0:00:01\n",
      "     ----------------------------------- ---- 2.7/3.0 MB 1.0 MB/s eta 0:00:01\n",
      "     ------------------------------------ --- 2.7/3.0 MB 1.0 MB/s eta 0:00:01\n",
      "     ------------------------------------- -- 2.7/3.0 MB 1.0 MB/s eta 0:00:01\n",
      "     ------------------------------------- -- 2.8/3.0 MB 1.0 MB/s eta 0:00:01\n",
      "     -------------------------------------- - 2.8/3.0 MB 1.0 MB/s eta 0:00:01\n",
      "     -------------------------------------- - 2.9/3.0 MB 1.0 MB/s eta 0:00:01\n",
      "     ---------------------------------------  2.9/3.0 MB 1.0 MB/s eta 0:00:01\n",
      "     ---------------------------------------- 3.0/3.0 MB 1.0 MB/s eta 0:00:00\n",
      "  Installing build dependencies: started\n",
      "  Installing build dependencies: finished with status 'done'\n",
      "  Getting requirements to build wheel: started\n",
      "  Getting requirements to build wheel: finished with status 'done'\n",
      "  Preparing metadata (pyproject.toml): started\n",
      "  Preparing metadata (pyproject.toml): finished with status 'done'\n",
      "Requirement already satisfied: beautifulsoup4>=4.11.1 in c:\\users\\bhiru\\anaconda3\\lib\\site-packages (from yfinance) (4.12.2)\n",
      "Collecting html5lib>=1.1 (from yfinance)\n",
      "  Downloading html5lib-1.1-py2.py3-none-any.whl.metadata (16 kB)\n",
      "Requirement already satisfied: soupsieve>1.2 in c:\\users\\bhiru\\anaconda3\\lib\\site-packages (from beautifulsoup4>=4.11.1->yfinance) (2.5)\n",
      "Requirement already satisfied: six>=1.9 in c:\\users\\bhiru\\anaconda3\\lib\\site-packages (from html5lib>=1.1->yfinance) (1.16.0)\n",
      "Requirement already satisfied: webencodings in c:\\users\\bhiru\\anaconda3\\lib\\site-packages (from html5lib>=1.1->yfinance) (0.5.1)\n",
      "Requirement already satisfied: python-dateutil>=2.8.2 in c:\\users\\bhiru\\anaconda3\\lib\\site-packages (from pandas>=1.3.0->yfinance) (2.8.2)\n",
      "Requirement already satisfied: tzdata>=2022.1 in c:\\users\\bhiru\\anaconda3\\lib\\site-packages (from pandas>=1.3.0->yfinance) (2023.3)\n",
      "Requirement already satisfied: charset-normalizer<4,>=2 in c:\\users\\bhiru\\anaconda3\\lib\\site-packages (from requests>=2.31->yfinance) (2.0.4)\n",
      "Requirement already satisfied: idna<4,>=2.5 in c:\\users\\bhiru\\anaconda3\\lib\\site-packages (from requests>=2.31->yfinance) (3.4)\n",
      "Requirement already satisfied: urllib3<3,>=1.21.1 in c:\\users\\bhiru\\anaconda3\\lib\\site-packages (from requests>=2.31->yfinance) (2.0.7)\n",
      "Requirement already satisfied: certifi>=2017.4.17 in c:\\users\\bhiru\\anaconda3\\lib\\site-packages (from requests>=2.31->yfinance) (2024.2.2)\n",
      "Downloading yfinance-0.2.43-py2.py3-none-any.whl (84 kB)\n",
      "   ---------------------------------------- 0.0/84.6 kB ? eta -:--:--\n",
      "   -------------- ------------------------- 30.7/84.6 kB 1.4 MB/s eta 0:00:01\n",
      "   -------------------------------------- - 81.9/84.6 kB 1.2 MB/s eta 0:00:01\n",
      "   ---------------------------------------- 84.6/84.6 kB 1.2 MB/s eta 0:00:00\n",
      "Downloading frozendict-2.4.4-py311-none-any.whl (16 kB)\n",
      "Downloading html5lib-1.1-py2.py3-none-any.whl (112 kB)\n",
      "   ---------------------------------------- 0.0/112.2 kB ? eta -:--:--\n",
      "   ---------- ---------------------------- 30.7/112.2 kB 660.6 kB/s eta 0:00:01\n",
      "   ------------------------ -------------- 71.7/112.2 kB 991.0 kB/s eta 0:00:01\n",
      "   ---------------------------------------- 112.2/112.2 kB 1.1 MB/s eta 0:00:00\n",
      "Downloading multitasking-0.0.11-py3-none-any.whl (8.5 kB)\n",
      "Building wheels for collected packages: peewee\n",
      "  Building wheel for peewee (pyproject.toml): started\n",
      "  Building wheel for peewee (pyproject.toml): finished with status 'done'\n",
      "  Created wheel for peewee: filename=peewee-3.17.6-py3-none-any.whl size=138939 sha256=1d7f0be4ae51345450bad17ffd59c5189c98ed496aa6b3625c8cbe96bb9730dd\n",
      "  Stored in directory: c:\\users\\bhiru\\appdata\\local\\pip\\cache\\wheels\\1c\\09\\7e\\9f659fde248ecdc1722a142c1d744271aad3914a0afc191058\n",
      "Successfully built peewee\n",
      "Installing collected packages: peewee, multitasking, html5lib, frozendict, yfinance\n",
      "Successfully installed frozendict-2.4.4 html5lib-1.1 multitasking-0.0.11 peewee-3.17.6 yfinance-0.2.43\n",
      "Note: you may need to restart the kernel to use updated packages.\n"
     ]
    }
   ],
   "source": [
    "pip install yfinance"
   ]
  },
  {
   "cell_type": "code",
   "execution_count": 4,
   "id": "7ca3fac4-29fa-4d6e-b5e6-31d3630f734d",
   "metadata": {},
   "outputs": [
    {
     "name": "stdout",
     "output_type": "stream",
     "text": [
      "Requirement already satisfied: pandas in c:\\users\\bhiru\\anaconda3\\lib\\site-packages (2.1.4)\n",
      "Requirement already satisfied: numpy<2,>=1.23.2 in c:\\users\\bhiru\\anaconda3\\lib\\site-packages (from pandas) (1.26.4)\n",
      "Requirement already satisfied: python-dateutil>=2.8.2 in c:\\users\\bhiru\\anaconda3\\lib\\site-packages (from pandas) (2.8.2)\n",
      "Requirement already satisfied: pytz>=2020.1 in c:\\users\\bhiru\\anaconda3\\lib\\site-packages (from pandas) (2023.3.post1)\n",
      "Requirement already satisfied: tzdata>=2022.1 in c:\\users\\bhiru\\anaconda3\\lib\\site-packages (from pandas) (2023.3)\n",
      "Requirement already satisfied: six>=1.5 in c:\\users\\bhiru\\anaconda3\\lib\\site-packages (from python-dateutil>=2.8.2->pandas) (1.16.0)\n",
      "Note: you may need to restart the kernel to use updated packages.\n"
     ]
    }
   ],
   "source": [
    "pip install pandas"
   ]
  },
  {
   "cell_type": "code",
   "execution_count": 5,
   "id": "00eceeac-6f8d-45c4-8dd5-bf09bec4bef7",
   "metadata": {},
   "outputs": [
    {
     "name": "stdout",
     "output_type": "stream",
     "text": [
      "Requirement already satisfied: numpy in c:\\users\\bhiru\\anaconda3\\lib\\site-packages (1.26.4)\n",
      "Note: you may need to restart the kernel to use updated packages.\n"
     ]
    }
   ],
   "source": [
    "pip install numpy"
   ]
  },
  {
   "cell_type": "code",
   "execution_count": 6,
   "id": "78b56246-149b-454c-9bb5-3deb6cd86a36",
   "metadata": {},
   "outputs": [
    {
     "name": "stderr",
     "output_type": "stream",
     "text": [
      "[*********************100%***********************]  1 of 1 completed\n",
      "[*********************100%***********************]  1 of 1 completed\n",
      "[*********************100%***********************]  1 of 1 completed\n",
      "[*********************100%***********************]  1 of 1 completed\n",
      "[*********************100%***********************]  1 of 1 completed\n"
     ]
    }
   ],
   "source": [
    "import yfinance as yf\n",
    "import pandas as pd\n",
    "import numpy as np\n",
    "\n",
    "# List of stock tickers you want to analyze\n",
    "tickers = ['AAPL', 'MSFT', 'GOOGL', 'TSLA', 'AMZN']  # Add as many as you want\n",
    "\n",
    "# Define the function to calculate SMA or EMA crossovers\n",
    "def check_sma_ema_crossovers(ticker):\n",
    "    # Download historical data (1 year of daily data)\n",
    "    data = yf.download(ticker, period=\"1y\", interval=\"1d\")\n",
    "    \n",
    "    # Calculate 20-day and 50-day Simple Moving Averages (SMA)\n",
    "    data['SMA_20'] = data['Close'].rolling(window=20).mean()\n",
    "    data['SMA_50'] = data['Close'].rolling(window=50).mean()\n",
    "    \n",
    "    # Calculate 9-day and 21-day Exponential Moving Averages (EMA)\n",
    "    data['EMA_9'] = data['Close'].ewm(span=9, adjust=False).mean()\n",
    "    data['EMA_21'] = data['Close'].ewm(span=21, adjust=False).mean()\n",
    "    \n",
    "    # Check for 20 SMA > 50 SMA (Golden Cross) and 9 EMA > 21 EMA conditions\n",
    "    data['SMA_Crossover'] = np.where((data['SMA_20'] > data['SMA_50']) &\n",
    "                                     (data['SMA_20'].shift(1) < data['SMA_50'].shift(1)), 1, 0)\n",
    "\n",
    "    data['EMA_Crossover'] = np.where((data['EMA_9'] > data['EMA_21']) &\n",
    "                                     (data['EMA_9'].shift(1) < data['EMA_21'].shift(1)), 1, 0)\n",
    "    \n",
    "    # Check if there was a crossover recently (e.g., in the last day or two)\n",
    "    if data['SMA_Crossover'].iloc[-1] == 1:\n",
    "        print(f\"{ticker}: 20 SMA crossed above 50 SMA (Golden Cross)\")\n",
    "    \n",
    "    if data['EMA_Crossover'].iloc[-1] == 1:\n",
    "        print(f\"{ticker}: 9 EMA crossed above 21 EMA (Short-term Crossover)\")\n",
    "\n",
    "# Loop through all tickers and check for crossovers\n",
    "for ticker in tickers:\n",
    "    check_sma_ema_crossovers(ticker)\n"
   ]
  }
 ],
 "metadata": {
  "kernelspec": {
   "display_name": "Python 3 (ipykernel)",
   "language": "python",
   "name": "python3"
  },
  "language_info": {
   "codemirror_mode": {
    "name": "ipython",
    "version": 3
   },
   "file_extension": ".py",
   "mimetype": "text/x-python",
   "name": "python",
   "nbconvert_exporter": "python",
   "pygments_lexer": "ipython3",
   "version": "3.11.7"
  }
 },
 "nbformat": 4,
 "nbformat_minor": 5
}
